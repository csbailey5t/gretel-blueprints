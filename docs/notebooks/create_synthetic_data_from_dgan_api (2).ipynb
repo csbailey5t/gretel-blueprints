{
 "cells": [
  {
   "cell_type": "code",
   "execution_count": 1,
   "id": "a513acf2",
   "metadata": {},
   "outputs": [
    {
     "name": "stderr",
     "output_type": "stream",
     "text": [
      "UsageError: Line magic function `%%capture` not found.\n"
     ]
    }
   ],
   "source": [
    "#install the required packages\n",
    "\n",
    "%%capture\n",
    "!pip install gretel_client pandas matplotlib numpy scipy torch"
   ]
  },
  {
   "cell_type": "code",
   "execution_count": 3,
   "id": "e85467d2",
   "metadata": {},
   "outputs": [],
   "source": [
    "#import necessary packages to use the DGAN API\n",
    "\n",
    "import pandas as pd\n",
    "import numpy as np\n",
    "import matplotlib.pyplot as plt\n",
    "import torch\n",
    "import math\n",
    "\n",
    "import yaml\n",
    "\n",
    "from getpass import getpass\n",
    "from gretel_client import configure_session, ClientConfig\n",
    "from gretel_client.helpers import poll\n",
    "from gretel_client.projects.projects import get_project"
   ]
  },
  {
   "cell_type": "code",
   "execution_count": 5,
   "id": "48d0e9f3",
   "metadata": {},
   "outputs": [
    {
     "name": "stdout",
     "output_type": "stream",
     "text": [
      "Using endpoint https://api-dev.gretel.cloud\n",
      "Logged in as santhosh@gretel.ai ✅\n"
     ]
    }
   ],
   "source": [
    "#configure session through the prompt method\n",
    "\n",
    "configure_session(api_key=\"grtu6243a294e23061d46e656297dd1f720840fb06aa63f5f09db7ff20a68d99e558\", validate=True, cache=\"no\", endpoint=\"https://api-dev.gretel.cloud\")"
   ]
  },
  {
   "cell_type": "code",
   "execution_count": 6,
   "id": "5e96a75c",
   "metadata": {},
   "outputs": [],
   "source": [
    "#download and load the oil datasets that we will generate synthetic data for\n",
    "def get_oil():\n",
    "    wti = pd.read_csv('https://datahub.io/core/oil-prices/r/wti-daily.csv')\n",
    "    brent = pd.read_csv('https://datahub.io/core/oil-prices/r/brent-daily.csv')\n",
    "    wti.columns = ['Date', 'WTI Price']\n",
    "    brent.columns = ['Date', 'Brent Price']\n",
    "    oil = wti.merge(brent)\n",
    "    return oil"
   ]
  },
  {
   "cell_type": "code",
   "execution_count": 7,
   "id": "900e0942",
   "metadata": {},
   "outputs": [
    {
     "data": {
      "text/html": [
       "<div>\n",
       "<style scoped>\n",
       "    .dataframe tbody tr th:only-of-type {\n",
       "        vertical-align: middle;\n",
       "    }\n",
       "\n",
       "    .dataframe tbody tr th {\n",
       "        vertical-align: top;\n",
       "    }\n",
       "\n",
       "    .dataframe thead th {\n",
       "        text-align: right;\n",
       "    }\n",
       "</style>\n",
       "<table border=\"1\" class=\"dataframe\">\n",
       "  <thead>\n",
       "    <tr style=\"text-align: right;\">\n",
       "      <th></th>\n",
       "      <th>Date</th>\n",
       "      <th>WTI Price</th>\n",
       "      <th>Brent Price</th>\n",
       "    </tr>\n",
       "  </thead>\n",
       "  <tbody>\n",
       "    <tr>\n",
       "      <th>0</th>\n",
       "      <td>1987-05-20</td>\n",
       "      <td>19.75</td>\n",
       "      <td>18.63</td>\n",
       "    </tr>\n",
       "    <tr>\n",
       "      <th>1</th>\n",
       "      <td>1987-05-21</td>\n",
       "      <td>19.95</td>\n",
       "      <td>18.45</td>\n",
       "    </tr>\n",
       "    <tr>\n",
       "      <th>2</th>\n",
       "      <td>1987-05-22</td>\n",
       "      <td>19.68</td>\n",
       "      <td>18.55</td>\n",
       "    </tr>\n",
       "    <tr>\n",
       "      <th>3</th>\n",
       "      <td>1987-05-26</td>\n",
       "      <td>19.35</td>\n",
       "      <td>18.63</td>\n",
       "    </tr>\n",
       "    <tr>\n",
       "      <th>4</th>\n",
       "      <td>1987-05-27</td>\n",
       "      <td>19.38</td>\n",
       "      <td>18.60</td>\n",
       "    </tr>\n",
       "  </tbody>\n",
       "</table>\n",
       "</div>"
      ],
      "text/plain": [
       "         Date  WTI Price  Brent Price\n",
       "0  1987-05-20      19.75        18.63\n",
       "1  1987-05-21      19.95        18.45\n",
       "2  1987-05-22      19.68        18.55\n",
       "3  1987-05-26      19.35        18.63\n",
       "4  1987-05-27      19.38        18.60"
      ]
     },
     "execution_count": 7,
     "metadata": {},
     "output_type": "execute_result"
    }
   ],
   "source": [
    "#view the oil data\n",
    "df = get_oil()\n",
    "df.head()"
   ]
  },
  {
   "cell_type": "code",
   "execution_count": 8,
   "id": "9efa6359",
   "metadata": {},
   "outputs": [],
   "source": [
    "#generate attribute column which is needed in order to use long style frames in the DGAN MIF Framework. We can set the \n",
    "#example size by setting the seq_len size.\n",
    "def generate_dataframe_with_batches(df, batch_size):\n",
    "    df_ = df[:math.floor(len(df)/batch_size)*batch_size]\n",
    "    columns = []\n",
    "    for i in range(0, len(df_), batch_size):\n",
    "        for j in range(batch_size):\n",
    "            columns.append(i)\n",
    "    df_['attributes'] = columns\n",
    "    return df_"
   ]
  },
  {
   "cell_type": "code",
   "execution_count": 14,
   "id": "f538c600",
   "metadata": {},
   "outputs": [
    {
     "name": "stderr",
     "output_type": "stream",
     "text": [
      "/home/tosh/gretel-work/env/lib/python3.7/site-packages/ipykernel_launcher.py:9: SettingWithCopyWarning: \n",
      "A value is trying to be set on a copy of a slice from a DataFrame.\n",
      "Try using .loc[row_indexer,col_indexer] = value instead\n",
      "\n",
      "See the caveats in the documentation: https://pandas.pydata.org/pandas-docs/stable/user_guide/indexing.html#returning-a-view-versus-a-copy\n",
      "  if __name__ == \"__main__\":\n"
     ]
    }
   ],
   "source": [
    "seq_len = 1000\n",
    "df_input = generate_dataframe_with_batches(df, seq_len)"
   ]
  },
  {
   "cell_type": "code",
   "execution_count": 15,
   "id": "78f39e2d",
   "metadata": {},
   "outputs": [
    {
     "data": {
      "text/html": [
       "<div>\n",
       "<style scoped>\n",
       "    .dataframe tbody tr th:only-of-type {\n",
       "        vertical-align: middle;\n",
       "    }\n",
       "\n",
       "    .dataframe tbody tr th {\n",
       "        vertical-align: top;\n",
       "    }\n",
       "\n",
       "    .dataframe thead th {\n",
       "        text-align: right;\n",
       "    }\n",
       "</style>\n",
       "<table border=\"1\" class=\"dataframe\">\n",
       "  <thead>\n",
       "    <tr style=\"text-align: right;\">\n",
       "      <th></th>\n",
       "      <th>Date</th>\n",
       "      <th>WTI Price</th>\n",
       "      <th>Brent Price</th>\n",
       "      <th>attributes</th>\n",
       "    </tr>\n",
       "  </thead>\n",
       "  <tbody>\n",
       "    <tr>\n",
       "      <th>0</th>\n",
       "      <td>1987-05-20</td>\n",
       "      <td>19.75</td>\n",
       "      <td>18.63</td>\n",
       "      <td>0</td>\n",
       "    </tr>\n",
       "    <tr>\n",
       "      <th>1</th>\n",
       "      <td>1987-05-21</td>\n",
       "      <td>19.95</td>\n",
       "      <td>18.45</td>\n",
       "      <td>0</td>\n",
       "    </tr>\n",
       "    <tr>\n",
       "      <th>2</th>\n",
       "      <td>1987-05-22</td>\n",
       "      <td>19.68</td>\n",
       "      <td>18.55</td>\n",
       "      <td>0</td>\n",
       "    </tr>\n",
       "    <tr>\n",
       "      <th>3</th>\n",
       "      <td>1987-05-26</td>\n",
       "      <td>19.35</td>\n",
       "      <td>18.63</td>\n",
       "      <td>0</td>\n",
       "    </tr>\n",
       "    <tr>\n",
       "      <th>4</th>\n",
       "      <td>1987-05-27</td>\n",
       "      <td>19.38</td>\n",
       "      <td>18.60</td>\n",
       "      <td>0</td>\n",
       "    </tr>\n",
       "    <tr>\n",
       "      <th>...</th>\n",
       "      <td>...</td>\n",
       "      <td>...</td>\n",
       "      <td>...</td>\n",
       "      <td>...</td>\n",
       "    </tr>\n",
       "    <tr>\n",
       "      <th>7995</th>\n",
       "      <td>2019-05-15</td>\n",
       "      <td>62.03</td>\n",
       "      <td>73.09</td>\n",
       "      <td>7000</td>\n",
       "    </tr>\n",
       "    <tr>\n",
       "      <th>7996</th>\n",
       "      <td>2019-05-16</td>\n",
       "      <td>62.93</td>\n",
       "      <td>74.70</td>\n",
       "      <td>7000</td>\n",
       "    </tr>\n",
       "    <tr>\n",
       "      <th>7997</th>\n",
       "      <td>2019-05-17</td>\n",
       "      <td>62.77</td>\n",
       "      <td>73.94</td>\n",
       "      <td>7000</td>\n",
       "    </tr>\n",
       "    <tr>\n",
       "      <th>7998</th>\n",
       "      <td>2019-05-20</td>\n",
       "      <td>63.12</td>\n",
       "      <td>73.21</td>\n",
       "      <td>7000</td>\n",
       "    </tr>\n",
       "    <tr>\n",
       "      <th>7999</th>\n",
       "      <td>2019-05-21</td>\n",
       "      <td>63.02</td>\n",
       "      <td>72.94</td>\n",
       "      <td>7000</td>\n",
       "    </tr>\n",
       "  </tbody>\n",
       "</table>\n",
       "<p>8000 rows × 4 columns</p>\n",
       "</div>"
      ],
      "text/plain": [
       "            Date  WTI Price  Brent Price  attributes\n",
       "0     1987-05-20      19.75        18.63           0\n",
       "1     1987-05-21      19.95        18.45           0\n",
       "2     1987-05-22      19.68        18.55           0\n",
       "3     1987-05-26      19.35        18.63           0\n",
       "4     1987-05-27      19.38        18.60           0\n",
       "...          ...        ...          ...         ...\n",
       "7995  2019-05-15      62.03        73.09        7000\n",
       "7996  2019-05-16      62.93        74.70        7000\n",
       "7997  2019-05-17      62.77        73.94        7000\n",
       "7998  2019-05-20      63.12        73.21        7000\n",
       "7999  2019-05-21      63.02        72.94        7000\n",
       "\n",
       "[8000 rows x 4 columns]"
      ]
     },
     "execution_count": 15,
     "metadata": {},
     "output_type": "execute_result"
    }
   ],
   "source": [
    "df_input"
   ]
  },
  {
   "cell_type": "code",
   "execution_count": 18,
   "id": "112988bf",
   "metadata": {},
   "outputs": [
    {
     "name": "stdout",
     "output_type": "stream",
     "text": [
      "Follow model training at: https://console-dev.gretel.cloud/santhosh-5bf41\n"
     ]
    },
    {
     "name": "stderr",
     "output_type": "stream",
     "text": [
      "\u001b[32mINFO: \u001b[0mStarting poller\n"
     ]
    },
    {
     "name": "stdout",
     "output_type": "stream",
     "text": [
      "{\n",
      "    \"uid\": \"62f6a55431d4fb5fca5551ba\",\n",
      "    \"guid\": \"model_2DGhV0KO0oCPSM6T0O0dvIBt4OE\",\n",
      "    \"model_name\": \"oildata\",\n",
      "    \"runner_mode\": \"cloud\",\n",
      "    \"user_id\": \"62867109492fbf0f130541d8\",\n",
      "    \"user_guid\": \"user_29OIufDSg6pvSUxZ1lEqSP0ly6Q\",\n",
      "    \"billing_domain\": \"gretel.ai\",\n",
      "    \"billing_domain_guid\": \"domain_28bzIokk1eQdWUYsovba0VN1gtY\",\n",
      "    \"project_id\": \"62f6a552f00bf34ef44abdfb\",\n",
      "    \"project_guid\": \"proj_2DGhUpKrzfdSLWGNZkvYfTXmpAe\",\n",
      "    \"status_history\": {\n",
      "        \"created\": \"2022-08-12T19:09:08.733565Z\"\n",
      "    },\n",
      "    \"last_modified\": \"2022-08-12T19:09:08.866275Z\",\n",
      "    \"status\": \"created\",\n",
      "    \"last_active_hb\": null,\n",
      "    \"duration_minutes\": null,\n",
      "    \"error_msg\": null,\n",
      "    \"error_id\": null,\n",
      "    \"traceback\": null,\n",
      "    \"annotations\": null,\n",
      "    \"container_image\": \"074762682575.dkr.ecr.us-east-2.amazonaws.com/models/timeseries_dgan@sha256:da5a85dd3d00e6583a4d51e0aa31e369c5ed8b3fceec7df70142ce791189e04a\",\n",
      "    \"model_type\": \"timeseries_dgan\",\n",
      "    \"config\": {\n",
      "        \"schema_version\": \"1.0\",\n",
      "        \"name\": \"oildata\",\n",
      "        \"models\": [\n",
      "            {\n",
      "                \"timeseries_dgan\": {\n",
      "                    \"data_source\": [\n",
      "                        \"gretel_e19ae480eea647bb9bc25b64c319053a_tmp_train.csv\"\n",
      "                    ],\n",
      "                    \"ref_data\": {},\n",
      "                    \"params\": {\n",
      "                        \"sample_len\": 1000,\n",
      "                        \"max_sequence_len\": 1000,\n",
      "                        \"attribute_noise_dim\": 10,\n",
      "                        \"feature_noise_dim\": 10,\n",
      "                        \"attribute_num_layers\": 3,\n",
      "                        \"attribute_num_units\": 100,\n",
      "                        \"feature_num_layers\": 3,\n",
      "                        \"feature_num_units\": 100,\n",
      "                        \"use_attribute_discriminator\": true,\n",
      "                        \"normalization\": 1,\n",
      "                        \"apply_feature_scaling\": true,\n",
      "                        \"apply_example_scaling\": true,\n",
      "                        \"gradient_penalty_coef\": 10.0,\n",
      "                        \"attribute_gradient_penalty_coef\": 10.0,\n",
      "                        \"attribute_loss_coef\": 1.0,\n",
      "                        \"generator_learning_rate\": 0.0001,\n",
      "                        \"discriminator_learning_rate\": 0.0001,\n",
      "                        \"attribute_discriminator_learning_rate\": 0.0001,\n",
      "                        \"batch_size\": 5000,\n",
      "                        \"epochs\": 10,\n",
      "                        \"discriminator_rounds\": 1,\n",
      "                        \"generator_rounds\": 1\n",
      "                    },\n",
      "                    \"attribute_columns\": null,\n",
      "                    \"feature_columns\": null,\n",
      "                    \"example_id_column\": \"attributes\",\n",
      "                    \"time_column\": \"Date\",\n",
      "                    \"discrete_columns\": null,\n",
      "                    \"df_style\": \"long\",\n",
      "                    \"generate\": {\n",
      "                        \"num_records\": 500,\n",
      "                        \"max_invalid\": null\n",
      "                    }\n",
      "                }\n",
      "            }\n",
      "        ],\n",
      "        \"notifications\": null,\n",
      "        \"label_predictors\": null\n",
      "    },\n",
      "    \"autouse_config\": null,\n",
      "    \"autouse_handler_id\": null\n",
      "}\n"
     ]
    },
    {
     "name": "stderr",
     "output_type": "stream",
     "text": [
      "\u001b[32mINFO: \u001b[0mStatus is pending. A Gretel Cloud worker is being allocated to begin model creation.\n",
      "\u001b[32mINFO: \u001b[0mStatus is active. A worker has started creating your model!\n",
      "2022-08-12T19:10:12.590708Z  Starting timeseries_dgan training!\n",
      "2022-08-12T19:10:25.156856Z  DGAN model training complete.\n",
      "2022-08-12T19:10:25.157637Z  Sampling 500 records for data preview...\n",
      "2022-08-12T19:10:25.907007Z  Sampled 500000 records.\n",
      "2022-08-12T19:10:34.051917Z  Uploading artifacts to Gretel Cloud\n"
     ]
    }
   ],
   "source": [
    "# Setup config and train model\n",
    "\n",
    "TMP_FILE = \"tmp_train.csv\"\n",
    "\n",
    "CONFIG_STRING = f\"\"\"\n",
    "schema_version: 1.0\n",
    "\n",
    "name: \"oildata\"\n",
    "\n",
    "models:\n",
    "  - timeseries_dgan:\n",
    "        data_source: \"_\"\n",
    "\n",
    "        time_column: \"Date\"\n",
    "        example_id_column: \"attributes\"\n",
    "        df_style: \"long\"\n",
    "        \n",
    "        params:\n",
    "            epochs: 10\n",
    "            max_sequence_len: {seq_len}\n",
    "            sample_len: {seq_len}  # Must evenly divide max_sequence_len, length of time series\n",
    "            batch_size: 5000 \n",
    "            generator_learning_rate: 0.0001\n",
    "            discriminator_learning_rate: 0.0001\n",
    "            attribute_discriminator_learning_rate: 1e-4\n",
    "            apply_feature_scaling: True\n",
    "            apply_example_scaling: True\n",
    "            feature_num_layers: 3\n",
    "            feature_num_units: 100\n",
    "            feature_noise_dim: 10\n",
    "            \n",
    "        generate:\n",
    "            num_records: 500\n",
    "\n",
    "\"\"\"\n",
    "config = yaml.safe_load(CONFIG_STRING)\n",
    "\n",
    "project = get_project(display_name=\"DGAN\", create=True)\n",
    "\n",
    "print(f\"Follow model training at: {project.get_console_url()}\")\n",
    "\n",
    "model = project.create_model_obj(model_config=config)\n",
    "\n",
    "df_input.to_csv(TMP_FILE, index=False)\n",
    "model.data_source = TMP_FILE\n",
    "\n",
    "model.submit(upload_data_source=True)\n",
    "\n",
    "poll(model)"
   ]
  },
  {
   "cell_type": "code",
   "execution_count": 19,
   "id": "3133e5f3",
   "metadata": {},
   "outputs": [
    {
     "data": {
      "text/html": [
       "<div>\n",
       "<style scoped>\n",
       "    .dataframe tbody tr th:only-of-type {\n",
       "        vertical-align: middle;\n",
       "    }\n",
       "\n",
       "    .dataframe tbody tr th {\n",
       "        vertical-align: top;\n",
       "    }\n",
       "\n",
       "    .dataframe thead th {\n",
       "        text-align: right;\n",
       "    }\n",
       "</style>\n",
       "<table border=\"1\" class=\"dataframe\">\n",
       "  <thead>\n",
       "    <tr style=\"text-align: right;\">\n",
       "      <th></th>\n",
       "      <th>Date</th>\n",
       "      <th>WTI Price</th>\n",
       "      <th>Brent Price</th>\n",
       "    </tr>\n",
       "  </thead>\n",
       "  <tbody>\n",
       "    <tr>\n",
       "      <th>0</th>\n",
       "      <td>1987-05-20</td>\n",
       "      <td>81.54950</td>\n",
       "      <td>78.51697</td>\n",
       "    </tr>\n",
       "    <tr>\n",
       "      <th>1</th>\n",
       "      <td>1987-05-21</td>\n",
       "      <td>80.23055</td>\n",
       "      <td>76.57310</td>\n",
       "    </tr>\n",
       "    <tr>\n",
       "      <th>2</th>\n",
       "      <td>1987-05-22</td>\n",
       "      <td>82.88888</td>\n",
       "      <td>77.30992</td>\n",
       "    </tr>\n",
       "    <tr>\n",
       "      <th>3</th>\n",
       "      <td>1987-05-26</td>\n",
       "      <td>83.46160</td>\n",
       "      <td>76.26220</td>\n",
       "    </tr>\n",
       "    <tr>\n",
       "      <th>4</th>\n",
       "      <td>1987-05-27</td>\n",
       "      <td>85.01628</td>\n",
       "      <td>79.38818</td>\n",
       "    </tr>\n",
       "  </tbody>\n",
       "</table>\n",
       "</div>"
      ],
      "text/plain": [
       "         Date  WTI Price  Brent Price\n",
       "0  1987-05-20   81.54950     78.51697\n",
       "1  1987-05-21   80.23055     76.57310\n",
       "2  1987-05-22   82.88888     77.30992\n",
       "3  1987-05-26   83.46160     76.26220\n",
       "4  1987-05-27   85.01628     79.38818"
      ]
     },
     "execution_count": 19,
     "metadata": {},
     "output_type": "execute_result"
    }
   ],
   "source": [
    "# Grab synthetic data\n",
    "\n",
    "synthetic_df = pd.read_csv(model.get_artifact_link(\"data_preview\"), compression=\"gzip\")\n",
    "synthetic_df = synthetic_df.drop(columns = 'attributes')\n",
    "synthetic_df.head()"
   ]
  },
  {
   "cell_type": "code",
   "execution_count": 20,
   "id": "1bfac4a5",
   "metadata": {},
   "outputs": [
    {
     "name": "stdout",
     "output_type": "stream",
     "text": [
      "Difference in real correlations and synethic data correlations:\n",
      "             WTI Price  Brent Price\n",
      "WTI Price      0.00000      0.94404\n",
      "Brent Price    0.94404      0.00000\n"
     ]
    }
   ],
   "source": [
    "# Let's compare the correlations in the synthetic data between the variables and the correlations in the real data between the variables. \n",
    "# We want to see that all the cells are as close to 0 as possible.\n",
    "print(\"Difference in real correlations and synethic data correlations:\")\n",
    "print(df.iloc[: , 1:].corr() - synthetic_df.iloc[: , 1:].corr())"
   ]
  },
  {
   "cell_type": "code",
   "execution_count": 21,
   "id": "0a3d8f5f",
   "metadata": {},
   "outputs": [
    {
     "data": {
      "image/png": "[encoded data removed]",
      "text/plain": [
       "<Figure size 1152x576 with 1 Axes>"
      ]
     },
     "metadata": {
      "needs_background": "light"
     },
     "output_type": "display_data"
    },
    {
     "data": {
      "image/png": "[encoded data removed]",
      "text/plain": [
       "<Figure size 1152x576 with 1 Axes>"
      ]
     },
     "metadata": {
      "needs_background": "light"
     },
     "output_type": "display_data"
    }
   ],
   "source": [
    "# Now, let's visualize the probability distribution of each feature and it's respective synthetic data alternate.\n",
    "for val in list(df.iloc[:,1:].columns):\n",
    "    plt.figure(figsize = (16,8))\n",
    "    plt.subplot(1, 2, 1)\n",
    "    plt.hist([np.array(df[val]), np.array(synthetic_df[val])], \n",
    "             label=[\"real\", \"synthetic\"],\n",
    "             bins=50,\n",
    "             density=True,\n",
    "             )\n",
    "    plt.legend()\n",
    "    plt.xlabel(val)\n",
    "    plt.ylabel(\"Density\")\n",
    "    plt.show()"
   ]
  },
  {
   "cell_type": "code",
   "execution_count": 22,
   "id": "095ed91d",
   "metadata": {},
   "outputs": [],
   "source": [
    "#Functions to calculate autocorrelation which will be visualized below.\n",
    "def autocorr(X, Y):\n",
    "    EPS = 1e-8\n",
    "    Xm = torch.mean(X, 1).unsqueeze(1)\n",
    "    Ym = torch.mean(Y, 1).unsqueeze(1)\n",
    "    r_num = torch.sum((X - Xm) * (Y - Ym), 1)\n",
    "    r_den = torch.sqrt(torch.sum((X - Xm)**2, 1) * torch.sum((Y - Ym)**2, 1))\n",
    "\n",
    "    r_num[r_num == 0] = EPS\n",
    "    r_den[r_den == 0] = EPS\n",
    "\n",
    "    r = r_num / r_den\n",
    "    r[r > 1] = 0\n",
    "    r[r < -1] = 0\n",
    "\n",
    "    return r\n",
    "    \n",
    "def get_autocorr(feature):\n",
    "    feature = torch.from_numpy(feature)\n",
    "    feature_length = feature.shape[1]\n",
    "    autocorr_vec = torch.Tensor(feature_length - 2)\n",
    "\n",
    "    for j in range(1, feature_length - 1):\n",
    "      autocorr_vec[j - 1] = torch.mean(autocorr(feature[:, :-j], feature[:, j:]))\n",
    "\n",
    "    return autocorr_vec.cpu().detach().numpy()"
   ]
  },
  {
   "cell_type": "code",
   "execution_count": 23,
   "id": "8c4389c4",
   "metadata": {},
   "outputs": [],
   "source": [
    "#function to generate numpy array in order to visualize the autocorrelation between real and synthetic data\n",
    "def generate_numpy_for_autocorr(df, batch_size):\n",
    "    features = df.iloc[: , 1:].to_numpy()\n",
    "    n = features.shape[0] // batch_size\n",
    "\n",
    "    # Shape is now (# examples, # time points, # features)\n",
    "    features = features[:(n*batch_size),:].reshape(-1, batch_size, features.shape[1])\n",
    "    return features"
   ]
  },
  {
   "cell_type": "code",
   "execution_count": 24,
   "id": "9bb282d0",
   "metadata": {},
   "outputs": [
    {
     "data": {
      "image/png": "[encoded data removed]",
      "text/plain": [
       "<Figure size 432x288 with 1 Axes>"
      ]
     },
     "metadata": {
      "needs_background": "light"
     },
     "output_type": "display_data"
    }
   ],
   "source": [
    "#Generate autocorrelation features from synthetic and real data and plot!\n",
    "synthetic_acf = get_autocorr(generate_numpy_for_autocorr(df, seq_len))\n",
    "acf = get_autocorr(generate_numpy_for_autocorr(synthetic_df, seq_len))\n",
    "# Figure 1, autocorrelation\n",
    "plt.plot(acf, label=\"real\")\n",
    "plt.plot(synthetic_acf, label=\"generated\")\n",
    "plt.xlabel(\"Time lag (days)\")\n",
    "plt.ylabel(\"Autocorrelation\")\n",
    "plt.title(\"Autocorrelation of Heartbeat 1 and Heartbeat 2\")\n",
    "plt.legend()\n",
    "plt.show()"
   ]
  }
 ],
 "metadata": {
  "kernelspec": {
   "display_name": "Python 3 (ipykernel)",
   "language": "python",
   "name": "python3"
  },
  "language_info": {
   "codemirror_mode": {
    "name": "ipython",
    "version": 3
   },
   "file_extension": ".py",
   "mimetype": "text/x-python",
   "name": "python",
   "nbconvert_exporter": "python",
   "pygments_lexer": "ipython3",
   "version": "3.7.12"
  }
 },
 "nbformat": 4,
 "nbformat_minor": 5
}
