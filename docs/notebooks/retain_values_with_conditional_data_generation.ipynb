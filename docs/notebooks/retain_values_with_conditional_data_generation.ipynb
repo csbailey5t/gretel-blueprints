{
  "nbformat": 4,
  "nbformat_minor": 0,
  "metadata": {
    "accelerator": "GPU",
    "colab": {
      "name": "Gretel - Retaining primary keys and field values with conditional data generation",
      "provenance": [],
      "collapsed_sections": []
    },
    "kernelspec": {
      "display_name": "Python 3",
      "language": "python",
      "name": "python3"
    },
    "language_info": {
      "codemirror_mode": {
        "name": "ipython",
        "version": 3
      },
      "file_extension": ".py",
      "mimetype": "text/x-python",
      "name": "python",
      "nbconvert_exporter": "python",
      "pygments_lexer": "ipython3",
      "version": "3.7.9"
    }
  },
  "cells": [
    {
      "cell_type": "markdown",
      "metadata": {
        "id": "UTRxpSlaczHY"
      },
      "source": [
        "# Retaining primary keys and field values with conditional data generation\n",
        "\n",
        "Gretel supports a feature known as model conditioning (seeding) that will generate rows based on partial values from your training data.  This is useful when you want to manually specify certain field values in the synthetic data, and let Gretel synthesize the rest of the row for you.\n",
        "\n",
        "Use Cases for conditional data generation with Gretel:\n",
        "\n",
        "- Create synthetic data that has the same number of rows as the training data\n",
        "- You want to preserve some of the original row data (primary keys, dates, important categorical data).\n",
        "\n",
        "When using conditional generation with Gretel's \"seed\" task, the model will generate one sample for each row of the seed dataframe, sorted in the same order. \n",
        "\n",
        "In the example below, we'll use a combination of a primary key `client_id` and categorical fields `age` and `gender` as conditional inputs to the synthetic model, generating a new dataframe with the same primary key and categorical fields, but with the rest of the dataframe containing synthetically generated values."
      ]
    },
    {
      "cell_type": "code",
      "metadata": {
        "id": "VEM6kjRsczHd"
      },
      "source": [
        "%%capture\n",
        "\n",
        "!pip install pyyaml smart_open pandas\n",
        "!pip install -U gretel-client"
      ],
      "execution_count": null,
      "outputs": []
    },
    {
      "cell_type": "code",
      "metadata": {
        "id": "ZQ-TmAdwczHd"
      },
      "source": [
        "# Specify your Gretel API key\n",
        "\n",
        "from getpass import getpass\n",
        "import pandas as pd\n",
        "from gretel_client import configure_session, ClientConfig\n",
        "\n",
        "pd.set_option('max_colwidth', None)\n",
        "\n",
        "configure_session(ClientConfig(api_key=getpass(prompt=\"Enter Gretel API key\"), \n",
        "                               endpoint=\"https://api.gretel.cloud\"))"
      ],
      "execution_count": null,
      "outputs": []
    },
    {
      "cell_type": "code",
      "metadata": {
        "id": "YMg9nX6SczHe"
      },
      "source": [
        "# Load and preview dataset\n",
        "\n",
        "import pandas as pd\n",
        "\n",
        "dataset_path = \"https://gretel-public-website.s3-us-west-2.amazonaws.com/datasets/customer_finance_data.csv\"\n",
        "\n",
        "# We will pull down the training data to drop an ID column.  This will help give us a better model.\n",
        "training_df = pd.read_csv(dataset_path)\n",
        "\n",
        "try:\n",
        "    training_df.drop(\"disp_id\", axis=\"columns\", inplace=True)\n",
        "except KeyError:\n",
        "    pass # incase we already dropped it\n",
        "\n",
        "training_df"
      ],
      "execution_count": null,
      "outputs": []
    },
    {
      "cell_type": "code",
      "metadata": {
        "id": "tvKsT56cjOFO"
      },
      "source": [
        "from smart_open import open\n",
        "import yaml\n",
        "\n",
        "from gretel_client import create_project\n",
        "from gretel_client.helpers import poll\n",
        "\n",
        "# Create a project and model configuration.\n",
        "project = projects.create_or_get_unique_project(name='conditional-data-example')\n",
        "\n",
        "# Pull down the default synthetic config.  We will modify it slightly.\n",
        "with open(\"https://raw.githubusercontent.com/gretelai/gretel-blueprints/main/config_templates/gretel/synthetics/default.yml\", 'r') as stream:\n",
        "    config = yaml.safe_load(stream)\n",
        "\n",
        "# Here we prepare an object to specify the conditional data generation task.\n",
        "# In this example, we will retain the values for the seed fields below,\n",
        "# use their values as inputs to the synthetic model.\n",
        "fields=[\"client_id\", \"age\", \"gender\"]\n",
        "task = {\n",
        "    'type': 'seed',\n",
        "    'attrs': {\n",
        "        'fields': fields\n",
        "    }\n",
        "}\n",
        "config['models'][0]['synthetics']['task'] = task\n",
        "config['models'][0]['synthetics']['generate'] = {'num_records': len(training_df)}\n",
        "\n",
        "\n",
        "# Fit the model on the training set\n",
        "model = project.create_model_obj(model_config=config)\n",
        "training_df.to_csv('train.csv', index=False)\n",
        "model.data_source = 'train.csv'\n",
        "model.submit_cloud()\n",
        "\n",
        "poll(model)\n",
        "\n",
        "synthetic = pd.read_csv(model.get_artifact_link(\"data_preview\"), compression='gzip')\n",
        "synthetic.head()"
      ],
      "execution_count": null,
      "outputs": []
    },
    {
      "cell_type": "code",
      "metadata": {
        "id": "He82umP5jOFP"
      },
      "source": [
        "# Generate report that shows the statistical performance between the training and synthetic data\n",
        "\n",
        "import IPython\n",
        "from smart_open import open\n",
        "\n",
        "IPython.display.HTML(data=open(model.get_artifact_link(\"report\")).read())"
      ],
      "execution_count": null,
      "outputs": []
    },
    {
      "cell_type": "code",
      "metadata": {
        "id": "VJMSsKsJj52c"
      },
      "source": [
        "# Use the model to generate additional synthetic data.\n",
        "\n",
        "seeds = training_df[fields]\n",
        "seeds.to_csv('seeds.csv', index=False)\n",
        "\n",
        "rh = model.create_record_handler_obj(data_source=\"seeds.csv\", params={\"num_records\": len(seeds)})\n",
        "rh.submit_cloud()\n",
        "\n",
        "poll(rh)\n",
        "\n",
        "synthetic_next = pd.read_csv(rh.get_artifact_link(\"data\"), compression='gzip')\n",
        "synthetic_next"
      ],
      "execution_count": null,
      "outputs": []
    }
  ]
}